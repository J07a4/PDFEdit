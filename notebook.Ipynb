{
 "cells": [
  {
   "cell_type": "code",
   "execution_count": 1,
   "metadata": {},
   "outputs": [],
   "source": [
    "from reportlab.pdfgen.canvas import Canvas\n",
    "from PyPDF2 import PdfFileReader, PdfFileWriter\n",
    "from pathlib import Path\n",
    "import os"
   ]
  },
  {
   "cell_type": "code",
   "execution_count": 2,
   "metadata": {},
   "outputs": [],
   "source": [
    "pdf_path = (\n",
    "    Path.home()\n",
    "    / \"desktop\"\n",
    "    / \"Pruebas python\"\n",
    "    / \"PyPDF\"\n",
    "    / \"pre_tfg-5.pdf\"\n",
    ")\n",
    "pdf_reader = PdfFileReader(str(pdf_path))\n",
    "\n",
    "pdf_path = (\n",
    "    Path.home()\n",
    "    / \"desktop\"\n",
    "    / \"Pruebas python\"\n",
    "    / \"PyPDF\"\n",
    ")"
   ]
  },
  {
   "cell_type": "code",
   "execution_count": 3,
   "metadata": {},
   "outputs": [],
   "source": [
    "def extract_chapter(pdf,n,m):\n",
    "    pdf_writer = PdfFileWriter()\n",
    "    for i in range(m):\n",
    "        page = pdf.getPage(i+n)\n",
    "        pdf_writer.addPage(page)\n",
    "    return pdf_writer\n",
    "\n",
    "def save_pdf(pdf_writer,name):\n",
    "    with Path('output/'+ name+\".pdf\").open(mode=\"wb\") as output_file:\n",
    "        pdf_writer.write(output_file)\n",
    "\n",
    "def delete_pdf (name):\n",
    "    os.system('del output\\\\'+ name)\n",
    "\n",
    "def split_pdf(pdf,pg):\n",
    "    pg=[0]+pg+[pdf.getNumPages()]\n",
    "    for i in range(0,len(pg)-1):\n",
    "        save_pdf(extract_chapter(pdf,pg[i],pg[i+1]-pg[i]),\"chapter\"+str(i+1))\n",
    "\n",
    "def introduce_pdf (pdf1,pdf2,n):\n",
    "    pdf_writer = PdfFileWriter()\n",
    "    for i in range(n):\n",
    "        page = pdf1.getPage(i)\n",
    "        pdf_writer.addPage(page)\n",
    "    for i in range(pdf2.getNumPages()):\n",
    "        page = pdf2.getPage(i)\n",
    "        pdf_writer.addPage(page)\n",
    "    for i in range(pdf1.getNumPages()-n):\n",
    "        page = pdf1.getPage(n+i)\n",
    "        pdf_writer.addPage(page)\n",
    "    return pdf_writer"
   ]
  },
  {
   "cell_type": "code",
   "execution_count": 4,
   "metadata": {},
   "outputs": [],
   "source": [
    "def blank_pages(pdf,pg,n):\n",
    "    aux=0\n",
    "    for i in range(len(pg)):\n",
    "        pdf_writer = PdfFileWriter()\n",
    "        #hola mundo\n",
    "        print('hoja:')\n",
    "        print(n[i])\n",
    "        for j in range(n[i]):\n",
    "            print('hoja en blanco nº:')\n",
    "            print(j+1)\n",
    "            pdf_writer.addBlankPage(width=612, height=792)\n",
    "        save_pdf(pdf_writer,'auxi')\n",
    "        pdf_aux = PdfFileReader(str(pdf_path)+'\\\\output\\\\auxi.pdf')\n",
    "        print('pg+aux:')\n",
    "        print(pg[i]+aux)\n",
    "        save_pdf(introduce_pdf(pdf,pdf_aux,pg[i]+aux),'result')\n",
    "        pdf = PdfFileReader(str(pdf_path)+'\\\\output\\\\result.pdf')\n",
    "        aux+=n[i]\n",
    "        print('contador:')\n",
    "        print(aux)\n",
    "    pdf=introduce_pdf(pdf,pdf_aux,n[i])\n",
    "    save_pdf(pdf,'result')"
   ]
  },
  {
   "cell_type": "code",
   "execution_count": 8,
   "metadata": {},
   "outputs": [
    {
     "name": "stdout",
     "output_type": "stream",
     "text": [
      "hoja:\n",
      "2\n",
      "hoja en blanco nº:\n",
      "1\n",
      "hoja en blanco nº:\n",
      "2\n",
      "pg+aux:\n",
      "2\n"
     ]
    },
    {
     "ename": "FileNotFoundError",
     "evalue": "[Errno 2] No such file or directory: 'C:\\\\Users\\\\jrgma\\\\desktop\\\\Pruebas python\\\\PyPDF\\\\output\\\\result.pdf'",
     "output_type": "error",
     "traceback": [
      "\u001b[1;31m---------------------------------------------------------------------------\u001b[0m",
      "\u001b[1;31mFileNotFoundError\u001b[0m                         Traceback (most recent call last)",
      "\u001b[1;32mc:\\Users\\jrgma\\Desktop\\Pruebas Python\\PyPDF\\notebook.Ipynb Cell 5'\u001b[0m in \u001b[0;36m<cell line: 3>\u001b[1;34m()\u001b[0m\n\u001b[0;32m      <a href='vscode-notebook-cell:/c%3A/Users/jrgma/Desktop/Pruebas%20Python/PyPDF/notebook.Ipynb#ch0000004?line=0'>1</a>\u001b[0m V\u001b[39m=\u001b[39m[\u001b[39m2\u001b[39m]\n\u001b[0;32m      <a href='vscode-notebook-cell:/c%3A/Users/jrgma/Desktop/Pruebas%20Python/PyPDF/notebook.Ipynb#ch0000004?line=1'>2</a>\u001b[0m n\u001b[39m=\u001b[39m[\u001b[39m2\u001b[39m]\n\u001b[1;32m----> <a href='vscode-notebook-cell:/c%3A/Users/jrgma/Desktop/Pruebas%20Python/PyPDF/notebook.Ipynb#ch0000004?line=2'>3</a>\u001b[0m blank_pages(pdf_reader,V,n)\n",
      "\u001b[1;32mc:\\Users\\jrgma\\Desktop\\Pruebas Python\\PyPDF\\notebook.Ipynb Cell 4'\u001b[0m in \u001b[0;36mblank_pages\u001b[1;34m(pdf, pg, n)\u001b[0m\n\u001b[0;32m     <a href='vscode-notebook-cell:/c%3A/Users/jrgma/Desktop/Pruebas%20Python/PyPDF/notebook.Ipynb#ch0000003?line=14'>15</a>\u001b[0m \u001b[39mprint\u001b[39m(pg[i]\u001b[39m+\u001b[39maux)\n\u001b[0;32m     <a href='vscode-notebook-cell:/c%3A/Users/jrgma/Desktop/Pruebas%20Python/PyPDF/notebook.Ipynb#ch0000003?line=15'>16</a>\u001b[0m save_pdf(introduce_pdf(pdf,pdf_aux,pg[i]\u001b[39m+\u001b[39maux),\u001b[39m'\u001b[39m\u001b[39mresult\u001b[39m\u001b[39m'\u001b[39m\u001b[39m+\u001b[39m\u001b[39mstr\u001b[39m(i))\n\u001b[1;32m---> <a href='vscode-notebook-cell:/c%3A/Users/jrgma/Desktop/Pruebas%20Python/PyPDF/notebook.Ipynb#ch0000003?line=16'>17</a>\u001b[0m pdf \u001b[39m=\u001b[39m PdfFileReader(\u001b[39mstr\u001b[39;49m(pdf_path)\u001b[39m+\u001b[39;49m\u001b[39m'\u001b[39;49m\u001b[39m\\\\\u001b[39;49;00m\u001b[39moutput\u001b[39;49m\u001b[39m\\\\\u001b[39;49;00m\u001b[39mresult.pdf\u001b[39;49m\u001b[39m'\u001b[39;49m)\n\u001b[0;32m     <a href='vscode-notebook-cell:/c%3A/Users/jrgma/Desktop/Pruebas%20Python/PyPDF/notebook.Ipynb#ch0000003?line=17'>18</a>\u001b[0m aux\u001b[39m+\u001b[39m\u001b[39m=\u001b[39mn[i]\n\u001b[0;32m     <a href='vscode-notebook-cell:/c%3A/Users/jrgma/Desktop/Pruebas%20Python/PyPDF/notebook.Ipynb#ch0000003?line=18'>19</a>\u001b[0m \u001b[39mprint\u001b[39m(\u001b[39m'\u001b[39m\u001b[39mcontador:\u001b[39m\u001b[39m'\u001b[39m)\n",
      "File \u001b[1;32m~\\AppData\\Local\\Programs\\Python\\Python39\\lib\\site-packages\\PyPDF2\\pdf.py:1217\u001b[0m, in \u001b[0;36mPdfFileReader.__init__\u001b[1;34m(self, stream, strict, warndest, overwriteWarnings)\u001b[0m\n\u001b[0;32m   <a href='file:///c%3A/Users/jrgma/AppData/Local/Programs/Python/Python39/lib/site-packages/PyPDF2/pdf.py?line=1214'>1215</a>\u001b[0m     warnings\u001b[39m.\u001b[39mwarn(\u001b[39m\"\u001b[39m\u001b[39mPdfFileReader stream/file object is not in binary mode. It may not be read correctly.\u001b[39m\u001b[39m\"\u001b[39m, PdfReadWarning)\n\u001b[0;32m   <a href='file:///c%3A/Users/jrgma/AppData/Local/Programs/Python/Python39/lib/site-packages/PyPDF2/pdf.py?line=1215'>1216</a>\u001b[0m \u001b[39mif\u001b[39;00m isString(stream):\n\u001b[1;32m-> <a href='file:///c%3A/Users/jrgma/AppData/Local/Programs/Python/Python39/lib/site-packages/PyPDF2/pdf.py?line=1216'>1217</a>\u001b[0m     \u001b[39mwith\u001b[39;00m \u001b[39mopen\u001b[39;49m(stream, \u001b[39m'\u001b[39;49m\u001b[39mrb\u001b[39;49m\u001b[39m'\u001b[39;49m) \u001b[39mas\u001b[39;00m fileobj:\n\u001b[0;32m   <a href='file:///c%3A/Users/jrgma/AppData/Local/Programs/Python/Python39/lib/site-packages/PyPDF2/pdf.py?line=1217'>1218</a>\u001b[0m         stream \u001b[39m=\u001b[39m BytesIO(b_(fileobj\u001b[39m.\u001b[39mread()))\n\u001b[0;32m   <a href='file:///c%3A/Users/jrgma/AppData/Local/Programs/Python/Python39/lib/site-packages/PyPDF2/pdf.py?line=1218'>1219</a>\u001b[0m \u001b[39mself\u001b[39m\u001b[39m.\u001b[39mread(stream)\n",
      "\u001b[1;31mFileNotFoundError\u001b[0m: [Errno 2] No such file or directory: 'C:\\\\Users\\\\jrgma\\\\desktop\\\\Pruebas python\\\\PyPDF\\\\output\\\\result.pdf'"
     ]
    }
   ],
   "source": [
    "V=[2]\n",
    "n=[2]\n",
    "blank_pages(pdf_reader,V,n)"
   ]
  },
  {
   "cell_type": "code",
   "execution_count": 7,
   "metadata": {},
   "outputs": [
    {
     "name": "stdout",
     "output_type": "stream",
     "text": [
      "pg+aux:\n"
     ]
    }
   ],
   "source": [
    "pg=V\n",
    "aux=n[1]\n",
    "pdf_aux = PdfFileReader(str(pdf_path)+'\\\\output\\\\auxi.pdf')\n",
    "pdf = PdfFileReader(str(pdf_path)+'\\\\output\\\\result1.pdf')\n",
    "save_pdf(introduce_pdf(pdf,pdf_aux,pg[1]+aux),'result'+str(1))"
   ]
  }
 ],
 "metadata": {
  "interpreter": {
   "hash": "468358b20e070881fca2138f9fd23f18596031a9b738968693b527cf0a200e9f"
  },
  "kernelspec": {
   "display_name": "Python 3.9.6 64-bit",
   "language": "python",
   "name": "python3"
  },
  "language_info": {
   "codemirror_mode": {
    "name": "ipython",
    "version": 3
   },
   "file_extension": ".py",
   "mimetype": "text/x-python",
   "name": "python",
   "nbconvert_exporter": "python",
   "pygments_lexer": "ipython3",
   "version": "3.9.6"
  },
  "orig_nbformat": 4
 },
 "nbformat": 4,
 "nbformat_minor": 2
}
